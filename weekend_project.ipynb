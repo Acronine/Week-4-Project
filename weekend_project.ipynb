{
 "cells": [
  {
   "cell_type": "markdown",
   "metadata": {},
   "source": [
    "# Coding Temple's Data Analytics Program\n",
    "---\n",
    "## Python for DA: Weekend Project\n",
    "\n",
    "For this weekend project, you will be connecting to the [Disney API](https://disneyapi.dev/) to create an ETL pipeline. Your project should contain:\n",
    "\n",
    "- etl_pipeline.py\n",
    "    - Loads in data from the API object for all characters\n",
    "    - Stores required fields from the API to a DataFrame\n",
    "        - name\n",
    "        - all movies/shows the character appeared in\n",
    "        - any allies\n",
    "        - any enemies\n",
    "        - any park attractions\n",
    "    - Cleans the data\n",
    "    - Performs any transformations/feature engineering you wish to complete\n",
    "    - Stores the data in an ElephantSQL server\n",
    "    - Stores the data in a .csv file\n",
    "\n",
    "- notebook.ipynb\n",
    "    - Contains all cells you used to test your code before loading it into the pipeline\n",
    "    - Loads in the data from your .csv file\n",
    "    - Conduct EDA through data\n",
    "    - Conduct an analysis on your dataset!"
   ]
  },
  {
   "cell_type": "code",
   "execution_count": 60,
   "metadata": {},
   "outputs": [],
   "source": [
    "import pandas as pd\n",
    "import matplotlib.pyplot as plt\n",
    "import seaborn as sns\n",
    "import requests, json\n",
    "\n"
   ]
  },
  {
   "cell_type": "code",
   "execution_count": 106,
   "metadata": {},
   "outputs": [
    {
     "name": "stdout",
     "output_type": "stream",
     "text": [
      "0       The Hunchback of Notre Dame, The Hunchback of ...\n",
      "1          The Fox and the Hound, The Fox and the Hound 2\n",
      "2                                                 Cheetah\n",
      "3               Mary Poppins (film), Mary Poppins Returns\n",
      "4                                                      []\n",
      "                              ...                        \n",
      "6976                                                   []\n",
      "6977                Sofia the First: Once Upon a Princess\n",
      "6978    A Wrinkle in Time (film), A Wrinkle in Time (2...\n",
      "6979                                                   []\n",
      "6980                                                   []\n",
      "Name: films, Length: 6981, dtype: object\n"
     ]
    }
   ],
   "source": [
    "def charac_dict(ind_data) -> dict:\n",
    "    character_takein = {\n",
    "        'name':ind_data['name'],\n",
    "        'id':ind_data['_id'],\n",
    "        'films':ind_data['films'],\n",
    "        'tv_shows':ind_data['tvShows'],\n",
    "        'video_games':ind_data['videoGames'], # Leaving this one in, it does only have 16.5% information. But I do like to see Kingdom Hearts be relevant for once.\n",
    "        # 'short_films':ind_data['shortFilms'], \n",
    "        # 'park_attractions': ind_data['parkAttractions'],\n",
    "        # 'allies':ind_data['allies'],\n",
    "        # 'enemies':ind_data['enemies'],\n",
    "        'source_url':ind_data['sourceUrl'],\n",
    "        'api_url':ind_data['url']\n",
    "    }\n",
    "    return character_takein\n",
    "\n",
    "\n",
    "def wrangle(file_path):\n",
    "    disney_page1 = (requests.get(file_path)).json()\n",
    "    \n",
    "    charac_info = {}\n",
    "    while disney_page1['info']['nextPage'] != None:\n",
    "        for i in range(len(disney_page1['data'])):\n",
    "            character = charac_dict(disney_page1['data'][i])\n",
    "            charac_info[(character['name'])] = character\n",
    "        disney_page1 =(requests.get(disney_page1['info']['nextPage'])).json()\n",
    "    \n",
    "    df = pd.DataFrame.from_dict(charac_info)\n",
    "    tpose_df = df.transpose().reset_index() # This is to flip the columns and rows.\n",
    "    tpose_df.drop('index',axis=1,inplace=True) #This is to remove the original keys of the dictionary\n",
    "    \n",
    "    for name in tpose_df.columns.tolist():\n",
    "        for e in range(len(tpose_df[name])):\n",
    "            if isinstance(tpose_df[name][e], list) and len(tpose_df[name][e]) > 0:\n",
    "                tpose_df[name][e] = \", \".join(tpose_df[name][e])\n",
    "    # This is to iterate through each value and to remove the lists that are not empty\n",
    "    return tpose_df\n",
    "\n",
    "\n",
    "df = wrangle('https://api.disneyapi.dev/character')\n"
   ]
  },
  {
   "cell_type": "code",
   "execution_count": 78,
   "metadata": {},
   "outputs": [
    {
     "name": "stdout",
     "output_type": "stream",
     "text": [
      "<class 'pandas.core.frame.DataFrame'>\n",
      "RangeIndex: 6981 entries, 0 to 6980\n",
      "Data columns (total 7 columns):\n",
      " #   Column       Non-Null Count  Dtype \n",
      "---  ------       --------------  ----- \n",
      " 0   name         6981 non-null   object\n",
      " 1   id           6981 non-null   object\n",
      " 2   films        6981 non-null   object\n",
      " 3   tv_shows     6981 non-null   object\n",
      " 4   video_games  6981 non-null   object\n",
      " 5   source_url   6981 non-null   object\n",
      " 6   api_url      6981 non-null   object\n",
      "dtypes: object(7)\n",
      "memory usage: 381.9+ KB\n",
      "{'films': [{'nonull': 3115}, {'isnull': 3866}], 'tv_shows': [{'nonull': 4293}, {'isnull': 2688}], 'video_games': [{'nonull': 1152}, {'isnull': 5829}]}\n",
      "0.16501933820369574\n"
     ]
    }
   ],
   "source": [
    "df.info()\n",
    "def disnull(clean_df):\n",
    "    \"\"\"\n",
    "    A code block pulled from Tuesday's homework and retrofitted into a function.\n",
    "    This function's purpose is to iterate through a Pandas DataFrame and return\n",
    "    a dictionary with keys telling you the amount of null values and non null values.\n",
    "    \n",
    "    Taken apart and retrofitted to check empty lists instead\n",
    "    \"\"\"\n",
    "    null_check = {}\n",
    "    for names in clean_df.columns.tolist():\n",
    "        null_checkin = [{'nonull':0},{'isnull':0}]\n",
    "        if names not in ['name','id','source_url','api_url']:\n",
    "            for i in range(len(clean_df[names])):\n",
    "                if len(clean_df[names][i]) == 0:\n",
    "                    null_checkin[1]['isnull'] += 1\n",
    "                else:\n",
    "                    null_checkin[0]['nonull'] += 1\n",
    "            null_check[f'{names}']=null_checkin\n",
    "    return null_check\n",
    "\n",
    "print(disnull(df))\n",
    "print(1152/6981)\n"
   ]
  },
  {
   "cell_type": "markdown",
   "metadata": {},
   "source": [
    "Going to be ripping out a bunch of stuff that doesn't have any information."
   ]
  },
  {
   "cell_type": "code",
   "execution_count": 93,
   "metadata": {},
   "outputs": [
    {
     "data": {
      "text/plain": [
       "0       The Hunchback of Notre Dame, The Hunchback of ...\n",
       "1          The Fox and the Hound, The Fox and the Hound 2\n",
       "2                                                 Cheetah\n",
       "3               Mary Poppins (film), Mary Poppins Returns\n",
       "4                                                      []\n",
       "                              ...                        \n",
       "6976                                                   []\n",
       "6977                Sofia the First: Once Upon a Princess\n",
       "6978    A Wrinkle in Time (film), A Wrinkle in Time (2...\n",
       "6979                                                   []\n",
       "6980                                                   []\n",
       "Name: films, Length: 6981, dtype: object"
      ]
     },
     "execution_count": 93,
     "metadata": {},
     "output_type": "execute_result"
    }
   ],
   "source": [
    "df['films']\n",
    "\n",
    "for i in range(len(df['films'])):\n",
    "    if isinstance((df['films'][i]), list) and len(df['films'][i]) > 0:\n",
    "        df['films'][i] = \", \".join(df['films'][i])\n",
    "df['films']"
   ]
  },
  {
   "cell_type": "code",
   "execution_count": 31,
   "metadata": {},
   "outputs": [
    {
     "data": {
      "text/plain": [
       "{'_id': 12,\n",
       " 'films': [],\n",
       " 'shortFilms': [],\n",
       " 'tvShows': ['Pickle and Peanut'],\n",
       " 'videoGames': [],\n",
       " 'parkAttractions': [],\n",
       " 'allies': [],\n",
       " 'enemies': [],\n",
       " 'sourceUrl': 'https://disney.fandom.com/wiki/90%27s_Adventure_Bear_(character)',\n",
       " 'name': \"90's Adventure Bear\",\n",
       " 'imageUrl': 'https://static.wikia.nocookie.net/disney/images/3/3f/90%27s_Adventure_Bear_profile.png',\n",
       " 'createdAt': '2021-04-12T01:26:00.335Z',\n",
       " 'updatedAt': '2021-12-20T20:39:18.032Z',\n",
       " 'url': 'https://api.disneyapi.dev/characters/12',\n",
       " '__v': 0}"
      ]
     },
     "execution_count": 31,
     "metadata": {},
     "output_type": "execute_result"
    }
   ],
   "source": [
    "disney_page1 = (requests.get('https://api.disneyapi.dev/character')).json()\n",
    "disney_page1['data'][5] # this is to look at where I need to refer to while making the character dictionary\n"
   ]
  }
 ],
 "metadata": {
  "kernelspec": {
   "display_name": "base",
   "language": "python",
   "name": "python3"
  },
  "language_info": {
   "codemirror_mode": {
    "name": "ipython",
    "version": 3
   },
   "file_extension": ".py",
   "mimetype": "text/x-python",
   "name": "python",
   "nbconvert_exporter": "python",
   "pygments_lexer": "ipython3",
   "version": "3.10.9"
  },
  "orig_nbformat": 4
 },
 "nbformat": 4,
 "nbformat_minor": 2
}
